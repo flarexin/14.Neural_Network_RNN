{
 "cells": [
  {
   "cell_type": "markdown",
   "metadata": {},
   "source": [
    "## Level 2 - Word Prediction using LSTM"
   ]
  },
  {
   "cell_type": "markdown",
   "metadata": {},
   "source": [
    "Follow the same steps as in Char Prediction (Level 1) but at the word level than at the Char Level. "
   ]
  },
  {
   "cell_type": "markdown",
   "metadata": {},
   "source": [
    "### Importing Packages"
   ]
  },
  {
   "cell_type": "code",
   "execution_count": 1,
   "metadata": {},
   "outputs": [
    {
     "name": "stderr",
     "output_type": "stream",
     "text": [
      "Using TensorFlow backend.\n"
     ]
    }
   ],
   "source": [
    "import pandas as pd\n",
    "import numpy as np\n",
    "import matplotlib.pyplot as plt\n",
    "% matplotlib inline\n",
    "\n",
    "from sklearn.model_selection import train_test_split\n",
    "\n",
    "# KERAS API\n",
    "import keras\n",
    "# Sequence to attain Padding\n",
    "from keras.preprocessing import sequence\n",
    "# Importing RNN's LSTM\n",
    "from keras.layers import LSTM, Dense\n",
    "from keras.layers import Embedding\n",
    "# Applying Sequential algorithm to model\n",
    "from keras.models import Sequential\n",
    "\n",
    "\n",
    "# NLTK PACKAGE\n",
    "import nltk\n",
    "# Tokenizers\n",
    "from nltk.tokenize import word_tokenize, sent_tokenize, PunktSentenceTokenizer, RegexpTokenizer\n",
    "# Stemming and Lemmatizing\n",
    "from nltk.stem import PorterStemmer, WordNetLemmatizer\n",
    "# Stopwords\n",
    "from nltk.corpus import stopwords, state_union"
   ]
  },
  {
   "cell_type": "markdown",
   "metadata": {},
   "source": [
    "### Storing the Document"
   ]
  },
  {
   "cell_type": "code",
   "execution_count": 2,
   "metadata": {
    "collapsed": true
   },
   "outputs": [],
   "source": [
    "file = open('AliceInWonderland').read()"
   ]
  },
  {
   "cell_type": "markdown",
   "metadata": {},
   "source": [
    "#### Words Tokenizer"
   ]
  },
  {
   "cell_type": "code",
   "execution_count": 3,
   "metadata": {
    "collapsed": true
   },
   "outputs": [],
   "source": [
    "words = word_tokenize(file)"
   ]
  },
  {
   "cell_type": "code",
   "execution_count": 4,
   "metadata": {},
   "outputs": [
    {
     "data": {
      "text/plain": [
       "35585"
      ]
     },
     "execution_count": 4,
     "metadata": {},
     "output_type": "execute_result"
    }
   ],
   "source": [
    "len(words)"
   ]
  },
  {
   "cell_type": "markdown",
   "metadata": {},
   "source": [
    "#### Calculating number of Unique Letters in the document"
   ]
  },
  {
   "cell_type": "code",
   "execution_count": 5,
   "metadata": {},
   "outputs": [
    {
     "data": {
      "text/plain": [
       "4054"
      ]
     },
     "execution_count": 5,
     "metadata": {},
     "output_type": "execute_result"
    }
   ],
   "source": [
    "unique_words = list(set(words))\n",
    "unique_output_values = len(unique_words)\n",
    "unique_output_values"
   ]
  },
  {
   "cell_type": "markdown",
   "metadata": {},
   "source": [
    "#### Conversions"
   ]
  },
  {
   "cell_type": "code",
   "execution_count": 6,
   "metadata": {
    "collapsed": true
   },
   "outputs": [],
   "source": [
    "word_to_int = dict(zip(unique_words, [i for i in range(len(unique_words))]))\n",
    "int_to_word = dict(zip([i for i in range(len(unique_words))],unique_words))"
   ]
  },
  {
   "cell_type": "markdown",
   "metadata": {},
   "source": [
    "### METHODS"
   ]
  },
  {
   "cell_type": "code",
   "execution_count": 7,
   "metadata": {
    "collapsed": true
   },
   "outputs": [],
   "source": [
    "''' SLIDING FUNCTION: Slides over the input text file word by word'''\n",
    "\n",
    "def generate_word_Dataset(data, slide):\n",
    "    \n",
    "    x = []\n",
    "    y = []\n",
    "    \n",
    "    for index in range(len(data) - slide):\n",
    "        x.append([word for word in data[index:index+slide]])\n",
    "        y.append(data[index+slide:index+slide+1])\n",
    "        \n",
    "    return x,y"
   ]
  },
  {
   "cell_type": "code",
   "execution_count": 8,
   "metadata": {
    "collapsed": true
   },
   "outputs": [],
   "source": [
    "''' WORD TO INT CONVERSION FUNCTION: Converts words dataset to int dataset '''\n",
    "\n",
    "def word_Dataset_to_int_Dataset(x,y, word_to_int):\n",
    "    \n",
    "    input_to_int = []\n",
    "    output_to_int = []\n",
    "    \n",
    "    for index in range(len(x)):\n",
    "        input_to_int.append([word_to_int[word] for word in x[index]])\n",
    "        output_to_int.append([word_to_int[word] for word in y[index]])\n",
    "    \n",
    "    return input_to_int, output_to_int"
   ]
  },
  {
   "cell_type": "code",
   "execution_count": 9,
   "metadata": {
    "collapsed": true
   },
   "outputs": [],
   "source": [
    "''' (BACK) INT TO WORD CONVERSION FUNCTION: Accepts y(i.e. List of lists) '''\n",
    "\n",
    "def int_Dataset_to_word_Dataset(y, int_to_word):\n",
    "    \n",
    "    back_to_word = []\n",
    "\n",
    "    for index in range(len(y)):\n",
    "        back_to_word.append([int_to_word[y[index][0]]])\n",
    "        \n",
    "    return back_to_word"
   ]
  },
  {
   "cell_type": "code",
   "execution_count": 10,
   "metadata": {
    "collapsed": true
   },
   "outputs": [],
   "source": [
    "''' INTIALIZATION FUNCTION: Accepts tokenized words, slide, list of unique words from the doc '''\n",
    "\n",
    "def initialize(data, slide, word_to_int):\n",
    "    \n",
    "    word_Dataset = generate_word_Dataset(data, slide)\n",
    "    int_Dataset = word_Dataset_to_int_Dataset(word_Dataset[0], word_Dataset[1], word_to_int)\n",
    "    \n",
    "    # INPUT: e.g. [[12,21,34], [12,33,41], ...] - List of Lists\n",
    "    seqInput = int_Dataset[0]\n",
    "    \n",
    "    # OUTPUT: e.g. flatten([[12],[24],[2],[5] ...] - List of Lists = [12,24,2,5....]\n",
    "    seqOutput = list(np.array(int_Dataset[1]).flatten())\n",
    "    \n",
    "    seqInput_RESHAPED = np.array(seqInput).reshape(len(seqInput), slide, 1)\n",
    "    \n",
    "    return seqInput_RESHAPED, seqOutput"
   ]
  },
  {
   "cell_type": "markdown",
   "metadata": {},
   "source": [
    "### Initializing"
   ]
  },
  {
   "cell_type": "code",
   "execution_count": 11,
   "metadata": {
    "collapsed": true
   },
   "outputs": [],
   "source": [
    "DATA_SET = initialize(words, 100, word_to_int)\n",
    "\n",
    "X = DATA_SET[0]\n",
    "Y = DATA_SET[1]"
   ]
  },
  {
   "cell_type": "code",
   "execution_count": 12,
   "metadata": {},
   "outputs": [
    {
     "data": {
      "text/plain": [
       "(35485, 100, 1)"
      ]
     },
     "execution_count": 12,
     "metadata": {},
     "output_type": "execute_result"
    }
   ],
   "source": [
    "''' X=(35485, 100, 1) \n",
    "\n",
    "    Number of samples = 35485\n",
    "    Number of inputs  = 100 (Word1, Word2...., Word100)\n",
    "               Output = 1 (Word101th)\n",
    "'''\n",
    "\n",
    "X.shape"
   ]
  },
  {
   "cell_type": "markdown",
   "metadata": {},
   "source": [
    "### Defining Paramters"
   ]
  },
  {
   "cell_type": "code",
   "execution_count": 13,
   "metadata": {
    "collapsed": true
   },
   "outputs": [],
   "source": [
    "num_words = 20000\n",
    "batch_size = 32\n",
    "epochs = 2\n",
    "num_classes = unique_words"
   ]
  },
  {
   "cell_type": "markdown",
   "metadata": {},
   "source": [
    "### Training and Testing units"
   ]
  },
  {
   "cell_type": "code",
   "execution_count": 14,
   "metadata": {
    "collapsed": true
   },
   "outputs": [],
   "source": [
    "x_train, x_test, y_train, y_test = train_test_split(X, Y, test_size=0.01, random_state=1)"
   ]
  },
  {
   "cell_type": "code",
   "execution_count": 15,
   "metadata": {},
   "outputs": [
    {
     "name": "stdout",
     "output_type": "stream",
     "text": [
      "X: - TOTAL WORDS = 35485 TRAIN= (35130, 100, 1) TEST= (355, 100, 1) \n",
      "Y: - TOTAL WORDS = 35485 TRAIN= 35130 TEST= 355\n"
     ]
    }
   ],
   "source": [
    "print(\"X: - TOTAL WORDS =\", len(X), \"TRAIN=\", x_train.shape, \"TEST=\", x_test.shape,\"\\nY: - TOTAL WORDS =\", len(Y), \"TRAIN=\", len(y_train), \"TEST=\",len(y_test))"
   ]
  },
  {
   "cell_type": "markdown",
   "metadata": {},
   "source": [
    "### One-Hot-Encoding"
   ]
  },
  {
   "cell_type": "code",
   "execution_count": 16,
   "metadata": {
    "collapsed": true
   },
   "outputs": [],
   "source": [
    "y_train_oneHotEncoded = keras.utils.to_categorical(y_train, num_classes=unique_output_values)\n",
    "y_test_oneHotEncoded = keras.utils.to_categorical(y_test, num_classes=unique_output_values)"
   ]
  },
  {
   "cell_type": "code",
   "execution_count": 17,
   "metadata": {},
   "outputs": [
    {
     "data": {
      "text/plain": [
       "(355, 4054)"
      ]
     },
     "execution_count": 17,
     "metadata": {},
     "output_type": "execute_result"
    }
   ],
   "source": [
    "y_test_oneHotEncoded.shape"
   ]
  },
  {
   "cell_type": "markdown",
   "metadata": {},
   "source": [
    "### Model"
   ]
  },
  {
   "cell_type": "code",
   "execution_count": 19,
   "metadata": {},
   "outputs": [
    {
     "name": "stdout",
     "output_type": "stream",
     "text": [
      "Train on 35130 samples, validate on 355 samples\n",
      "Epoch 1/1\n",
      "35130/35130 [==============================] - 574s - loss: 6.6134 - acc: 0.0714 - val_loss: 6.5443 - val_acc: 0.0563\n"
     ]
    },
    {
     "data": {
      "text/plain": [
       "<keras.callbacks.History at 0x7f7e0b945e80>"
      ]
     },
     "execution_count": 19,
     "metadata": {},
     "output_type": "execute_result"
    }
   ],
   "source": [
    "# Model Architecture:  Consists of 2 LSTM Layers and a Output Dense Layer\n",
    "\n",
    "#       t0 - t1 - t2 - t3 ------ t99    = Sample 1                \n",
    "#       t0 - t1 - t2 - t3 ------ t99    = Sample 2\n",
    "#                                         ...\n",
    "#       t0 - t1 - t2 - t3 ------ t99    = Sample 35485 \n",
    "\n",
    "model = Sequential()\n",
    "model.add(LSTM(64, input_shape=(x_train.shape[1], x_train.shape[2]), return_sequences = True))\n",
    "model.add(LSTM(128))\n",
    "model.add(Dense(unique_output_values, activation=\"sigmoid\"))\n",
    "\n",
    "model.compile(loss=\"categorical_crossentropy\", optimizer=\"adam\", metrics=[\"accuracy\"])\n",
    "\n",
    "model.fit(x_train, y_train_oneHotEncoded, batch_size=batch_size, epochs=1, validation_data=(x_test, y_test_oneHotEncoded))"
   ]
  },
  {
   "cell_type": "markdown",
   "metadata": {},
   "source": [
    "##### Loading Dropouts"
   ]
  },
  {
   "cell_type": "code",
   "execution_count": 21,
   "metadata": {
    "collapsed": true
   },
   "outputs": [],
   "source": [
    "#model.add(Dropout(32, input_shape=(x_train.shape[1], x_train.shape[2]))"
   ]
  },
  {
   "cell_type": "markdown",
   "metadata": {},
   "source": [
    "### Predictions"
   ]
  },
  {
   "cell_type": "code",
   "execution_count": 22,
   "metadata": {},
   "outputs": [],
   "source": [
    "predict = model.predict(x_test)"
   ]
  },
  {
   "cell_type": "markdown",
   "metadata": {},
   "source": [
    "### Accuracy"
   ]
  },
  {
   "cell_type": "code",
   "execution_count": 23,
   "metadata": {},
   "outputs": [
    {
     "name": "stdout",
     "output_type": "stream",
     "text": [
      "355/355 [==============================] - 3s     \n"
     ]
    }
   ],
   "source": [
    "evaluate = model.evaluate(x_test, y_test_oneHotEncoded)"
   ]
  },
  {
   "cell_type": "code",
   "execution_count": 24,
   "metadata": {},
   "outputs": [
    {
     "data": {
      "text/plain": [
       "5.6338028169014089"
      ]
     },
     "execution_count": 24,
     "metadata": {},
     "output_type": "execute_result"
    }
   ],
   "source": [
    "accuracy = evaluate[1]\n",
    "accuracy*100"
   ]
  },
  {
   "cell_type": "markdown",
   "metadata": {},
   "source": [
    "### TEST INPUT"
   ]
  },
  {
   "cell_type": "code",
   "execution_count": 25,
   "metadata": {
    "collapsed": true
   },
   "outputs": [],
   "source": [
    "test_input = file[:5000]"
   ]
  },
  {
   "cell_type": "code",
   "execution_count": 26,
   "metadata": {},
   "outputs": [
    {
     "data": {
      "text/plain": [
       "1066"
      ]
     },
     "execution_count": 26,
     "metadata": {},
     "output_type": "execute_result"
    }
   ],
   "source": [
    "len(word_tokenize(test_input))"
   ]
  },
  {
   "cell_type": "code",
   "execution_count": 27,
   "metadata": {
    "collapsed": true
   },
   "outputs": [],
   "source": [
    "test_input_seqIn_withChar,test_input_seqOut_withChar = generate_word_Dataset(word_tokenize(test_input), 100)"
   ]
  },
  {
   "cell_type": "code",
   "execution_count": 28,
   "metadata": {
    "collapsed": true
   },
   "outputs": [],
   "source": [
    "'''Converting char input sequence to Integer'''\n",
    "test_input_seqIn = []\n",
    "\n",
    "for i in range(len(test_input_seqIn_withChar)):\n",
    "    test_input_seqIn.append([word_to_int[letter] for letter in test_input_seqIn_withChar[i]])"
   ]
  },
  {
   "cell_type": "code",
   "execution_count": 29,
   "metadata": {
    "collapsed": true
   },
   "outputs": [],
   "source": [
    "'''Reshaping seqIn sample'''\n",
    "\n",
    "test_input_seqIn_reshape = np.array(test_input_seqIn).reshape(np.array(test_input_seqIn).shape[0], np.array(test_input_seqIn).shape[1], 1)"
   ]
  },
  {
   "cell_type": "code",
   "execution_count": 30,
   "metadata": {},
   "outputs": [
    {
     "data": {
      "text/plain": [
       "(966, 100, 1)"
      ]
     },
     "execution_count": 30,
     "metadata": {},
     "output_type": "execute_result"
    }
   ],
   "source": [
    "test_input_seqIn_reshape.shape"
   ]
  },
  {
   "cell_type": "code",
   "execution_count": 31,
   "metadata": {},
   "outputs": [
    {
     "name": "stdout",
     "output_type": "stream",
     "text": [
      "966/966 [==============================] - 8s     \n"
     ]
    }
   ],
   "source": [
    "predictions = model.predict_classes(test_input_seqIn_reshape)"
   ]
  },
  {
   "cell_type": "markdown",
   "metadata": {},
   "source": [
    "#### Storing inputs and outputs in a proper string"
   ]
  },
  {
   "cell_type": "code",
   "execution_count": 33,
   "metadata": {
    "collapsed": true
   },
   "outputs": [],
   "source": [
    "input = []\n",
    "\n",
    "for i in range(len(test_input_seqIn_withChar)):\n",
    "    input.append(''.join(test_input_seqIn_withChar[i]))"
   ]
  },
  {
   "cell_type": "code",
   "execution_count": 34,
   "metadata": {
    "collapsed": true
   },
   "outputs": [],
   "source": [
    "output = []\n",
    "\n",
    "for i in predictions:\n",
    "    output.append(int_to_word[i])"
   ]
  },
  {
   "cell_type": "markdown",
   "metadata": {},
   "source": [
    "### OUTPUT"
   ]
  },
  {
   "cell_type": "code",
   "execution_count": 35,
   "metadata": {},
   "outputs": [
    {
     "data": {
      "text/plain": [
       "'ProjectGutenberg’sAlice’sAdventuresinWonderland,byLewisCarrollThiseBookisfortheuseofanyoneanywhereatnocostandwithalmostnorestrictionswhatsoever.Youmaycopyit,giveitawayorre-useitunderthetermsoftheProjectGutenbergLicenseincludedwiththiseBookoronlineatwww.gutenberg.orgTitle:Alice’sAdventuresinWonderlandAuthor:LewisCarrollPostingDate:June25,2008[EBook#11]ReleaseDate:March,1994LastUpdated:October6,2016Language:EnglishCharactersetencoding:UTF-8***'"
      ]
     },
     "execution_count": 35,
     "metadata": {},
     "output_type": "execute_result"
    }
   ],
   "source": [
    "input[0]"
   ]
  },
  {
   "cell_type": "code",
   "execution_count": 36,
   "metadata": {},
   "outputs": [
    {
     "data": {
      "text/plain": [
       "'the'"
      ]
     },
     "execution_count": 36,
     "metadata": {},
     "output_type": "execute_result"
    }
   ],
   "source": [
    "output[0]"
   ]
  },
  {
   "cell_type": "code",
   "execution_count": 37,
   "metadata": {},
   "outputs": [
    {
     "data": {
      "text/plain": [
       "'thethethethethethethethethethethethethethethethethethethethethethethethethethethethethethethethethethethethethethethethethethethethethethethethethethethethethethethethethethethethethethethethethethethethethethethethethethethethethethethethethethethethethethethethethethethethethethethethethethethethethethethethethethethethethethethethethethethethethethethethethethethethethethethethethethethethethethethethethethethethethethethethethethethethethethethethethethethethethethethethethethethethethethethethethethethethethethethethethethethethethethethethethethethethethethethethethethethethethethethethethethethethethethethethethethethethethethethethethethethethethethethethethethethethethethethethethethethethethethethethethethethethethethethethethethethethethethethethethethethethethethethethethethethethethethethethethethethethethethethethethethethethethethethethethethethethethethethethethethethethethethethethethethethethethethethethethethethethethethethethethethethethethethethethethethethethethethethethethethethethethethethethethethethethethethethethethethethethethethethethethethethethethethethethethethethethethethethethethethethethethethethethethethethethethethethethethethethethethethethethethethethethethethethethethethethethethethethethethethethethethethethethethethethethethethethethethethethethethethethethethethethethethethethethethethethethethethethethethethethethethethethethethethethethethethethethethethethethethethethethethethethethethethethethethethethethethethethethethethethethethethethethethethethethethethethethethethethethethethethethethethethethethethethethethethethethethethethethethethethethethethethethethethethethethethethethethethethethethethethethethethethethethethethethethethethethethethethethethethethethethethethethethethethethethethethethethethethethethethethethethethethethethethethethethethethethethethethethethethethethethethethethethethethethethethethethethethethethethethethethethethethethethethethethethethethethethethethethethethethethethethethethethethethethethethethethethethethethethethethethethethethethethethethethethethethethethethethethethethethethethethethethethethethethethethethethethethethethethethethethethethethethethethethethethethethethethethethethethethethethethethethethethethethethethethethethethethethethethethethethethethethethethethethethethethethethethethethethethethethethethethethethethethethethethethethethethethethethethethethethethethethethethethethethethethethethethethethethethethethethethethethethethethethethethethethethethethethethethethethethethethethethethethethethethethethethethethethethethethethethethethethethethethethethethethethethethethethethethethethethethethethethethethethethethethethethethethethethethethethethethethethethethethethethethethethethethethethethethethethethethethethethethethethethethethethethethethethethethethethethethethethethethethethethethethethethethethethethethethethethethethethethethethe'"
      ]
     },
     "execution_count": 37,
     "metadata": {},
     "output_type": "execute_result"
    }
   ],
   "source": [
    "''.join(output)"
   ]
  }
 ],
 "metadata": {
  "kernelspec": {
   "display_name": "Python 3",
   "language": "python",
   "name": "python3"
  },
  "language_info": {
   "codemirror_mode": {
    "name": "ipython",
    "version": 3
   },
   "file_extension": ".py",
   "mimetype": "text/x-python",
   "name": "python",
   "nbconvert_exporter": "python",
   "pygments_lexer": "ipython3",
   "version": "3.6.0"
  }
 },
 "nbformat": 4,
 "nbformat_minor": 2
}
